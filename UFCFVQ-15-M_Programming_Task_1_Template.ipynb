{
 "cells": [
  {
   "cell_type": "markdown",
   "metadata": {},
   "source": [
    "# UFCFVQ-15-M Programming for Data Science (Autumn 2021)\n",
    "# Programming Task 1\n",
    "\n",
    "## Student Id: 21046899"
   ]
  },
  {
   "cell_type": "markdown",
   "metadata": {
    "deletable": false
   },
   "source": [
    "<p style=\"color:red; font-weight:bold; font-size:xx-small\">OVERALL COURSEWORK MARK: ___%</p>"
   ]
  },
  {
   "cell_type": "markdown",
   "metadata": {
    "deletable": false
   },
   "source": [
    "### Requirement FR1 - Develop a function to find the arithmetic mean"
   ]
  },
  {
   "cell_type": "code",
   "execution_count": 3,
   "metadata": {},
   "outputs": [
    {
     "name": "stdout",
     "output_type": "stream",
     "text": [
      "Mean of the data is 15.333333333333334 \n"
     ]
    }
   ],
   "source": [
    "# I approached task one using an example centered algorithmic aid \"\"\"examples\"\"\" \n",
    "\n",
    "# FR1 developes a function for arithmetic mean\n",
    "# The aggregate or total of my sample divided by the length, produces my arithmetic mean using the def function.\n",
    "\n",
    "def mean(data) -> float:\n",
    "    \"\"\"\n",
    "        Input: \n",
    "            data -> Sequence/ArrayLike Object of integers \n",
    "\n",
    "        Output:\n",
    "            Mean of all values of data\n",
    "\n",
    "        >>> mean([1,2,3,4])\n",
    "        2.5\n",
    "\n",
    "    \"\"\"\n",
    "    return sum(data) / len(data)\n",
    "\n",
    "# printing the result of mean\n",
    "print(\"Mean of the data is % s \"% mean([6, 2, 22, 21, 24, 23, 8, 9, 5, 3, 11, 28, 14, 13, 12, 26, 29, 16, 15, 20, 25, 1, 10, 18, 27, 19, 7]))\n"
   ]
  },
  {
   "cell_type": "markdown",
   "metadata": {
    "deletable": false
   },
   "source": [
    "<p style=\"color:red; font-weight:bold; font-size:xx-small\">MARK: __%</p>\n",
    "<p style=\"color:red; font-weight:bold; font-size:xx-small\">FEEDBACK: </p>"
   ]
  },
  {
   "cell_type": "markdown",
   "metadata": {
    "deletable": false
   },
   "source": [
    "### Requirement FR2 - Develop a function to find the standard deviation"
   ]
  },
  {
   "cell_type": "markdown",
   "metadata": {},
   "source": [
    "#### Standard Deviation Function\n",
    "The function below calculates the standard deviation of a list of numbers using the formular below:\n",
    "$$\\sigma = \\sqrt{\\frac{\\sum (x_i - \\mu)^2}{N}} $$ \n",
    "\n",
    "$\\sigma$=\tpopulation standard deviation <br>\n",
    "$N$\t=\tthe size of the population <br>\n",
    "$x_i$\t=\teach value from the population <br>\n",
    "$\\mu$\t=\tthe population mean <br>"
   ]
  },
  {
   "cell_type": "code",
   "execution_count": 4,
   "metadata": {},
   "outputs": [
    {
     "name": "stdout",
     "output_type": "stream",
     "text": [
      "standard deviation is 8.393118874676114\n"
     ]
    }
   ],
   "source": [
    "# FR2 developes a function that finds standard deviation\n",
    "# Using the same  data set, first I describe a variable mean to be sum1 divided by lenght, \n",
    "# next I use a loop to find the deviations by subtract each number in the data set from the mean and then square each of them.\n",
    "# I continue by calculating the variance, which is a sum of the deviations all divided by the lenght of the data (n)\n",
    "# Finally our standard deviation is the square root of the varience which is mathematically the same as variance raised to the power of 0.5\n",
    "# This returns the value for standard deviation.\n",
    "\n",
    "\n",
    "data= [6, 2, 22, 21, 24, 23, 8, 9, 5, 3, 11, 28, 14, 13, 12, 26, 29, 16, 15, 20, 25, 1, 10, 18, 27, 19, 7]\n",
    "\n",
    "def stdev(data=[]) -> float:\n",
    "    \"\"\"\n",
    "        Input: \n",
    "            data -> Sequence/ArrayLike Object of integers \n",
    "\n",
    "        Output:\n",
    "            Standard Deviation of all values of data\n",
    "\n",
    "        >>> stdev([6, 2, 22, 21, 24, 23, 8, 9, 5, 3, 11, 28, 14, 13, 12, 26, 29, 16, 15, 20, 25, 1, 10, 18, 27, 19, 7])\n",
    "        8.39\n",
    "\n",
    "    \"\"\"\n",
    "\n",
    "\n",
    "    n= len(data)\n",
    "    sum1 = sum(data)\n",
    "    mean = sum1/n\n",
    "    deviations = []\n",
    "    for x in data: \n",
    "        dev= (x-mean)**2\n",
    "        deviations.append(dev)\n",
    "    variance= sum(deviations)/n\n",
    "    sd= variance**0.5\n",
    "    return sd\n",
    "\n",
    "\n",
    "print(\"standard deviation is\", stdev(data))\n",
    "\n"
   ]
  },
  {
   "cell_type": "markdown",
   "metadata": {
    "deletable": false
   },
   "source": [
    "<p style=\"color:red; font-weight:bold; font-size:xx-small\">MARK: __%</p>\n",
    "<p style=\"color:red; font-weight:bold; font-size:xx-small\">FEEDBACK: </p>"
   ]
  },
  {
   "cell_type": "markdown",
   "metadata": {
    "deletable": false
   },
   "source": [
    "### Requirement FR3 - Develop a function to find the min/max values and count "
   ]
  },
  {
   "cell_type": "code",
   "execution_count": 3,
   "metadata": {},
   "outputs": [
    {
     "name": "stdout",
     "output_type": "stream",
     "text": [
      "The minimum value is 1, the maximum value is 29 and the count is 27\n"
     ]
    }
   ],
   "source": [
    "# FR3 requires us to develop a function to calculate the minimum , maximum values and count the lenght\n",
    "# I have defined my statistics, I will be using the if and if-else conditional statements \n",
    "# And using pritnt f'string to format all 3 returns minimum maximum and count respectively\n",
    "\n",
    "x = [6, 2, 22, 21, 24, 23, 8, 9, 5, 3, 11, 28, 14, 13, 12, 26, 29, 16, 15, 20, 25, 1, 10, 18, 27, 19, 7]\n",
    "def min_max_count (x) -> tuple:\n",
    "    \"\"\"\n",
    "        Input: \n",
    "            x -> Sequence/ArrayLike Object of integers \n",
    "\n",
    "        Output:\n",
    "            Average of all values of data\n",
    "\n",
    "        >>> min_max_count([6, 2, 22, 21, 24, 23, 8, 9, 5, 3, 11, 28, 14, 13, 12, 26, 29, 16, 15, 20, 25, 1, 10, 18, 27, 19, 7])\n",
    "        (1, 29, 27)\n",
    "\n",
    "    \"\"\"\n",
    "    count = 0\n",
    "    min_val = x[0]            # assigning first item as minimum value\n",
    "    max_val = x[0]            # assigning first item as maximum value\n",
    "    for item in x:\n",
    "        count += 1\n",
    "        if min_val < item:    # if minimum value is less than item move to next item\n",
    "            continue\n",
    "        else:\n",
    "            min_val = item    # else replace minimum value with item\n",
    "            \n",
    "    for item in x:            \n",
    "        if max_val > item:    #if maximum value is greater than item move to next item\n",
    "            continue\n",
    "        else:\n",
    "            max_val = item    # else replace maximum value with item\n",
    "            \n",
    "    return  min_val, max_val, count\n",
    "\n",
    "minimum, maximum, count = min_max_count(x)\n",
    "## prints in order minimum value, maximum value, and count.\n",
    "print(\"The minimum value is \" + str(minimum) + \", \" + \"the maximum value is\", maximum, \"and the count is\", count)\n",
    "\n"
   ]
  },
  {
   "cell_type": "markdown",
   "metadata": {
    "deletable": false
   },
   "source": [
    "<p style=\"color:red; font-weight:bold; font-size:xx-small\">MARK: __%</p>\n",
    "<p style=\"color:red; font-weight:bold; font-size:xx-small\">FEEDBACK: </p>"
   ]
  },
  {
   "cell_type": "markdown",
   "metadata": {
    "deletable": false
   },
   "source": [
    "### Requirement FR4 - Develop a function to find the 25th, 50th and 75th percentiles "
   ]
  },
  {
   "cell_type": "code",
   "execution_count": 4,
   "metadata": {},
   "outputs": [
    {
     "name": "stdout",
     "output_type": "stream",
     "text": [
      "('25th Percentile is', 8, '50th Percentile is', 13, '75th Percentile is', 25)\n"
     ]
    }
   ],
   "source": [
    "# FR4 developing a function that calculates percentiles, 25th, 50th, 75th\n",
    "# Percentiles divide data into 100 equal parts.\n",
    "# The 25th, 50th and 75th indicates I can divide the data into quartiles, Q1=25th; Q2=50th; Q3=75th\n",
    "# The mathematical formula for percentile, if our data lenght is odd is (Q/100 (n+1))\n",
    "# In this script, the position of the percentiles are represented as Q1=25%, Q2=50%, Q3=75%; n=lenght of data; N=n+1\n",
    "\n",
    "\n",
    "mylist = [6, 2, 22, 21, 24, 23, 8, 9, 5, 3, 11, 28, 14, 13, 12, 26, 29, 16, 15, 20, 25, 1, 10, 18, 27, 19, 7]\n",
    "\n",
    "\n",
    "def quartiles25(mylist) -> int:\n",
    "    \"\"\"\n",
    "        Input: \n",
    "            mylist -> Sequence/ArrayLike Object of integers \n",
    "\n",
    "        Output:\n",
    "           Quarties25 of mylist\n",
    "\n",
    "        >>> quartiles25([6, 2, 22, 21, 24, 23, 8, 9, 5, 3, 11, 28, 14, 13, 12, 26, 29, 16, 15, 20, 25, 1, 10, 18, 27, 19, 7])\n",
    "        8\n",
    "\n",
    "    \"\"\"\n",
    "    A = len(mylist) + 1\n",
    "    quartile = (0.25 * A) - 1\n",
    "    PQ1 = int(quartile//1)\n",
    "    \n",
    "    # If length of list is even\n",
    "    if len(mylist) % 2 == 0:\n",
    "        PQ2 = PQ1 + 1\n",
    "        result = (mylist[PQ1]+mylist[PQ2])/2\n",
    "    # If length of list is odd \n",
    "    else:\n",
    "        result = mylist[PQ1]        \n",
    "    return result\n",
    "\n",
    "\n",
    "def quartiles50(mylist) -> int:\n",
    "    \"\"\"\n",
    "        Input: \n",
    "            mylist -> Sequence/ArrayLike Object of integers \n",
    "\n",
    "        Output:\n",
    "           Quarties25 of mylist\n",
    "\n",
    "        >>> quartiles25([6, 2, 22, 21, 24, 23, 8, 9, 5, 3, 11, 28, 14, 13, 12, 26, 29, 16, 15, 20, 25, 1, 10, 18, 27, 19, 7])\n",
    "        13\n",
    "\n",
    "    \"\"\"\n",
    "    A = len(mylist) + 1\n",
    "    quartile = (0.50 * A) - 1\n",
    "    PQ1 = int(quartile//1)    \n",
    "    \n",
    "    # If length of list is even\n",
    "    if len(mylist) % 2 == 0:\n",
    "        PQ2 = PQ1 + 1\n",
    "        result = (mylist[PQ1]+mylist[PQ2])/2\n",
    "    # If length of list is odd    \n",
    "    else:\n",
    "        result = mylist[PQ1]        \n",
    "    return result\n",
    "    \n",
    "\n",
    "def quartiles75(mylist) -> int:\n",
    "    \"\"\"\n",
    "        Input: \n",
    "            mylist -> Sequence/ArrayLike Object of integers \n",
    "\n",
    "        Output:\n",
    "           Quarties25 of mylist\n",
    "\n",
    "        >>> quartiles25([6, 2, 22, 21, 24, 23, 8, 9, 5, 3, 11, 28, 14, 13, 12, 26, 29, 16, 15, 20, 25, 1, 10, 18, 27, 19, 7])\n",
    "        25\n",
    "\n",
    "    \"\"\"\n",
    "    A = len(mylist) + 1\n",
    "    quartile = (0.75 * A) - 1\n",
    "    PQ1 = int(quartile//1)\n",
    "    \n",
    "    # If length of list is even\n",
    "    if len(mylist) % 2 == 0:\n",
    "        PQ2 = PQ1 + 1\n",
    "        result = (mylist[PQ1]+mylist[PQ2])/2\n",
    "    # If length of list is odd\n",
    "    else:\n",
    "        result = mylist[PQ1]\n",
    "    return result\n",
    "    \n",
    "print(('25th Percentile is',quartiles25(mylist) , '50th Percentile is', quartiles50(mylist), '75th Percentile is', quartiles75(mylist)))\n",
    "\n"
   ]
  },
  {
   "cell_type": "markdown",
   "metadata": {
    "deletable": false
   },
   "source": [
    "<p style=\"color:red; font-weight:bold; font-size:xx-small\">MARK: __%</p>\n",
    "<p style=\"color:red; font-weight:bold; font-size:xx-small\">FEEDBACK: </p>"
   ]
  },
  {
   "cell_type": "markdown",
   "metadata": {
    "deletable": false
   },
   "source": [
    "### Requirement FR5 - Develop a function to read a single column from a CSV file"
   ]
  },
  {
   "cell_type": "code",
   "execution_count": 5,
   "metadata": {},
   "outputs": [
    {
     "name": "stdout",
     "output_type": "stream",
     "text": [
      "Column Number 1: \n",
      " ('Solar', [0.603, 0.108128528, 12.081099, 1.578641473, 0.03926, 0.299208359, 0.134485968, 3.971724224, 3.137078404, 1.103538835, 0.881300118, 3.5462509, 5.118720829, 177.5, 0.011999821, 0.073591668, 0.19183, 2.3386, 0.952973, 0.037991538, 1.035739071, 0.012679515, 0.441810565, 0.1622, 10.15871272, 46.164, 3.791092002, 0.000961, 0.588876056, 0.0, 30.73240318, 0.01836, 0.037698887, 0.057143443, 0.022173967, 1.793230515, 23.23072906, 71.6883359, 0.1146904, 0.088143148, 0.001263953, 0.08, 0.117480937, 0.022788, 0.459692933, 2.2428, 0.9502, 3.2012, 0.098244292, 0.064488547, 0.013718674, 0.585723529, 0.01484375, 0.697743206, 3.020039802, 0.111623598, 0.675171297, 0.128029166, 2.12332226, 0.745192715, 1.249117, 0.299, 1.02, 0.009423834, 1.674, 0.57106, 0.154871783, 0.283982555, 0.585, 0.253621, 4.935234819, 9.349876912, 12.52057273, 0.205337811, 0.373100151, 1.957371429, 2.733, 4.719656655, 0.003989071, 7.890694078, 0.00696, 1.286493457, 0.9468835, 12.92181535, 97.11818182, 0.0, 0.010008089, 0.080231508])\n"
     ]
    }
   ],
   "source": [
    "# FR5 creates a function that reads a particular column of data from a CSV file called task1\n",
    "# Using collection type tuple, I am using tuples since our collection is immutable and tuples allow for duplicate members and are indexed, incase we want to call any particular element in any position.\n",
    "\n",
    "def read_column(fileName: str, columnNumber: int) -> tuple:\n",
    "    \"\"\"\n",
    "        Input: \n",
    "        1. A file path (FileName)\n",
    "        2. Column Number (columnNumber)\n",
    "\n",
    "        Output:\n",
    "            A tuple containing two things:\n",
    "            1. Column Name (header)\n",
    "            2. Column Values (result)\n",
    "\n",
    "        >>> read_column('task1.csv', 1)\n",
    "        (\"Glucose\", [148, 85, 183, 89, 137, 116, 78, 115, 197, 125, 110, 168, 139])\n",
    "\n",
    "    \"\"\"\n",
    "    \n",
    "    with open(fileName) as csv_file:\n",
    "        data = csv_file.read()\n",
    "        # Deleting any escape characters like \\n, \\t and spaces on right side\n",
    "        data = data.rstrip()\n",
    "        lines = data.split('\\n')       \n",
    "        headersList = lines[0].split(',')\n",
    "        body = lines[1:] # list slicing is used to filter the header out of body\n",
    "        result: list = []\n",
    "        for i in body:\n",
    "            x = i.split(',')\n",
    "            if x[columnNumber]:\n",
    "                result.append(float(x[columnNumber]))\n",
    "        header: str = headersList[columnNumber]\n",
    "        return header, result\n",
    "\n",
    "columnNumber1 = read_column('task1.csv', 1)\n",
    "# prints column Number 1 of the dataset\n",
    "print(\"Column Number 1: \\n\", columnNumber1)"
   ]
  },
  {
   "cell_type": "markdown",
   "metadata": {
    "deletable": false
   },
   "source": [
    "<p style=\"color:red; font-weight:bold; font-size:xx-small\">MARK: __%</p>\n",
    "<p style=\"color:red; font-weight:bold; font-size:xx-small\">FEEDBACK: </p>"
   ]
  },
  {
   "cell_type": "markdown",
   "metadata": {
    "deletable": false
   },
   "source": [
    "### Requirement FR6 - Develop a function to read CSV data from a file into memory"
   ]
  },
  {
   "cell_type": "code",
   "execution_count": 6,
   "metadata": {},
   "outputs": [
    {
     "name": "stdout",
     "output_type": "stream",
     "text": [
      "Dataset \n",
      " {'Hydropower': [0.117, 41.64945459, 17.26791, 37.52781287, 1.76795, 0.885632595, 0.45726487, 0.284810423, 387.6868063, 5.125584584, 244.839096, 387.2508762, 23.14438369, 1202.43, 56.64701407, 7.512550207, 0.0, 1.6272, 0.016454789, 20.69612073, 13.48338, 0.015617162, 38.93203591, 13.27777778, 64.2234218, 16.9, 5.720179713, 0.0, 0.221, 13.81099543, 139.6678322, 16.4112, 10.77, 3.1074588, 0.694087982, 0.0245, 45.85205715, 80.997, 10.3295118, 0.0, 2.433342329, 0.45, 0.094557415, 1.791368, 24.17649672, 32.39511459, 1.6934, 0.072348, 26.32037732, 138.4962175, 0.0, 62.91198244, 35.20305729, 2.255678699, 1.288541272, 0.0165, 69.46684307, 1.852952842, 35.99700727, 30.76868807, 9.383758, 1.971, 12.346, 0.0, 17.56396055, 190.21311, 0.0, 0.0, 3.591, 4.712487886, 0.914864856, 2.920390756, 35.19825724, 6.369370161, 61.91687566, 34.80394017, 4.4661, 7.597013, 0.0, 59.51828075, 0.0, 9.900734781, 0.0, 5.464660531, 288.7063404, 6.868202, 72.08394993, 80.70625435], 'Solar': [0.603, 0.108128528, 12.081099, 1.578641473, 0.03926, 0.299208359, 0.134485968, 3.971724224, 3.137078404, 1.103538835, 0.881300118, 3.5462509, 5.118720829, 177.5, 0.011999821, 0.073591668, 0.19183, 2.3386, 0.952973, 0.037991538, 1.035739071, 0.012679515, 0.441810565, 0.1622, 10.15871272, 46.164, 3.791092002, 0.000961, 0.588876056, 0.0, 30.73240318, 0.01836, 0.037698887, 0.057143443, 0.022173967, 1.793230515, 23.23072906, 71.6883359, 0.1146904, 0.088143148, 0.001263953, 0.08, 0.117480937, 0.022788, 0.459692933, 2.2428, 0.9502, 3.2012, 0.098244292, 0.064488547, 0.013718674, 0.585723529, 0.01484375, 0.697743206, 3.020039802, 0.111623598, 0.675171297, 0.128029166, 2.12332226, 0.745192715, 1.249117, 0.299, 1.02, 0.009423834, 1.674, 0.57106, 0.154871783, 0.283982555, 0.585, 0.253621, 4.935234819, 9.349876912, 12.52057273, 0.205337811, 0.373100151, 1.957371429, 2.733, 4.719656655, 0.003989071, 7.890694078, 0.00696, 1.286493457, 0.9468835, 12.92181535, 97.11818182, 0.0, 0.010008089, 0.080231508], 'Wind': [0.01, 1.412699784, 16.266484, 5.900014713, 0.0822, 0.005086066, 0.117978175, 7.468573702, 48.47990705, 1.378292235, 0.977082975, 32.17005152, 3.688710149, 366.0, 0.043437355, 1.379085419, 0.22061, 0.6093, 13.89880328, 0.080257771, 2.438966811, 0.633888557, 0.531134615, 5.857, 28.16738103, 111.59, 6.300269103, 0.000825, 0.608, 0.004365699, 60.31116, 0.198, 0.361973742, 0.0, 8.390989769, 0.105269485, 17.47251773, 6.789652, 0.5412648, 0.017452186, 0.123287671, 1.145, 0.307147387, 0.097338, 0.0, 12.62920683, 3.8407, 10.549225, 2.046003874, 3.875881, 0.0, 0.497064956, 0.0079, 1.428156269, 0.574940541, 0.453, 4.80031359, 0.0, 1.72268087, 1.493633864, 1.152924, 12.845, 12.657, 0.0, 6.497, 0.22774, 0.0, 0.0, 0.005, 0.006159, 6.894765181, 2.40369047, 50.83600814, 0.305662189, 16.81339144, 0.133, 1.6794, 0.76415852, 0.0, 19.825697, 0.0, 1.1274, 0.00075, 57.11571962, 277.7291061, 0.0, 0.0, 0.326664064], 'Other': [0.0, 2.29693941, 3.539346, 4.763252129, 0.0811, 0.008019927, 0.109149431, 5.427544126, 52.88998503, 0.496261903, 0.679177831, 9.588635536, 6.737367486, 90.72346175, 2.088838157, 0.682716361, 0.05136, 4.7285, 6.119796142, 0.427967651, 0.0, 1.369850244, 0.23331662, 12.86168421, 8.521197318, 51.437, 0.298303335, 0.100724044, 2.371182482, 6.009414916, 30.45869682, 14.5368, 0.021740437, 0.0, 1.242427268, 0.115, 25.31219835, 33.6554308, 0.0024284, 0.0, 0.962146042, 0.47, 0.226101964, 0.05405, 1.004339878, 6.480283932, 0.0, 4.875860296, 8.320907599, 0.178266653, 0.0, 0.163131005, 0.022, 1.39699069, 0.0041, 2.647315578, 0.222533905, 1.667658529, 0.674414968, 11.540128, 6.331, 3.439, 0.114486339, 0.4617102, 0.4645, 0.0, 0.903, 1.419478261, 0.28827567, 0.530431005, 10.1747942, 7.378921565, 0.11339364, 11.85871366, 1.974071402, 2.01435, 12.31650175, 0.0, 9.983786807, 0.0, 0.218506543, 0.005983607, 35.58660245, 83.67703684, 0.0, 0.0, 0.060833333]}\n"
     ]
    }
   ],
   "source": [
    "# FR6 Developes a function to read a csv file into memory.\n",
    "# using a csv_reader, and the output of a dictionary data structure because of its more obvious visualization.\n",
    "\n",
    "def read_csv(fileName: str) -> dict:\n",
    "    \"\"\"\n",
    "        Input: \n",
    "            A file path (FileName)\n",
    "\n",
    "        Output:\n",
    "            A dictionary data structure containing each column as a key value pair.\n",
    "\n",
    "        >>> read_csv('task1.csv')\n",
    "        {\n",
    "            \"Pregnancies\": [6, 1, 8, 1, 0, 5, 3, 10, 2, 8, 4, 10, 10],\n",
    "            \"Glucose\": [148, 85, 183, 89, 137, 116, 78, 115, 197, 125, 110, 168, 139],\n",
    "            \"BloodPressure\": [72, 66, 183, 89, 137, 116, 78, 115, 197, 125, 110, 168, 139],\n",
    "            \"SkinThickness\": [148, 85, 183, 89, 137, 116, 78, 115, 197, 125, 110, 168, 139],\n",
    "            ... \n",
    "            \"Outcome\" : [1,0,1,0,1,0,1,0,1,1,0,1,0]\n",
    "        }\n",
    "\n",
    "    \"\"\"\n",
    "    data = {}\n",
    "    for i in range(4):\n",
    "        columnName, columnValues = read_column(fileName, i)\n",
    "        data[columnName] = columnValues\n",
    "    return data\n",
    "\n",
    "\n",
    "dataset = read_csv('task1.csv')\n",
    "# prints dataset of task1.csv\n",
    "print(\"Dataset \\n\", dataset)\n"
   ]
  },
  {
   "cell_type": "markdown",
   "metadata": {
    "deletable": false
   },
   "source": [
    "<p style=\"color:red; font-weight:bold; font-size:xx-small\">MARK: __%</p>\n",
    "<p style=\"color:red; font-weight:bold; font-size:xx-small\">FEEDBACK: </p>"
   ]
  },
  {
   "cell_type": "markdown",
   "metadata": {
    "deletable": false
   },
   "source": [
    "### Requirement FR7 - Develop a function to generate a set of statistics for a given data file"
   ]
  },
  {
   "cell_type": "code",
   "execution_count": 7,
   "metadata": {},
   "outputs": [
    {
     "name": "stdout",
     "output_type": "stream",
     "text": [
      "{'Stats': ['Count', 'Mean', 'Stdev', 'Min', '25th', '50th', '75th', 'Max'], 'Hydropower': [88, 48.821284107874995, 143.61156541119564, 0.0, 19.473826536, 12.983932359999999, 95.106555, 1202.43], 'Solar': [88, 6.617743776193181, 23.050166228825766, 0.0, 0.22724503999999998, 0.2412404665, 0.3629658915, 177.5], 'Wind': [88, 14.380072730647731, 50.17237934719127, 0.0, 0.5825115860000001, 0.048669, 0.11387, 366.0], 'Other': [87, 7.013935866954023, 15.911752479774876, 0.0, 1.369850244, 0.05405, 0.0, 90.72346175]}\n"
     ]
    }
   ],
   "source": [
    "# FR7 developes a function to generate some basic summary statistics of the data set\n",
    "\n",
    "def generate_statistics(data: dict) -> dict:\n",
    "    \"\"\"\n",
    "        Input: \n",
    "            A dictionary data structure (data)\n",
    "\n",
    "        Output:\n",
    "            A dictionary data structure (result)\n",
    "\n",
    "        >>> generate_statistics(read_csv('task1.csv'))\n",
    "        {\n",
    "            \"Stats\":  [\"Count\", \"Mean\", \"Stdev\", \"Min\", \"25th\", \"50th\", \"75th\", \"Max\"],\n",
    "            \"Pregnancies\": [13, 5.23, 3.70, 0, 1.5, 5, 9, 10],\n",
    "            \"Glucose\": [13, 130, 37.03, 78, 99.5, 125, 158, 197],\n",
    "            ... \n",
    "            \"Outcome\" : [13, 0.54, 0.52, 0, 0, 1, 1, 1]\n",
    "        } \n",
    "    \"\"\"\n",
    "    statistics = [\"Count\", \"Mean\", \"Stdev\", \"Min\", \"25th\", \"50th\", \"75th\", \"Max\"]\n",
    "    result = {}\n",
    "    result['Stats'] = statistics\n",
    "    for key, column in data.items():\n",
    "        column = [x for x in column]\n",
    "        minimum, maximum, count = min_max_count(column)\n",
    "        result[key] = [count, mean(column), stdev(column), minimum, quartiles25(column), quartiles50(column), quartiles75(column), maximum]\n",
    "    return result\n",
    "\n",
    "# Printing statistics of the dataset\n",
    "print(generate_statistics(dataset))"
   ]
  },
  {
   "cell_type": "markdown",
   "metadata": {
    "deletable": false
   },
   "source": [
    "<p style=\"color:red; font-weight:bold; font-size:xx-small\">MARK: __%</p>\n",
    "<p style=\"color:red; font-weight:bold; font-size:xx-small\">FEEDBACK: </p>"
   ]
  },
  {
   "cell_type": "markdown",
   "metadata": {
    "deletable": false
   },
   "source": [
    "### Requirement FR8 - Develop a function to print a custom table"
   ]
  },
  {
   "cell_type": "code",
   "execution_count": 8,
   "metadata": {},
   "outputs": [
    {
     "name": "stdout",
     "output_type": "stream",
     "text": [
      "        **************************************\n",
      "        * Hydropower * Solar * Wind  * Other *\n",
      "**********************************************\n",
      "* Count * 88         * 88    * 88    * 87    *\n",
      "* Mean  * 48.82      * 6.62  * 14.38 * 7.01  *\n",
      "* Stdev * 143.61     * 23.05 * 50.17 * 15.91 *\n",
      "* Min   * 0.0        * 0.0   * 0.0   * 0.0   *\n",
      "* 25th  * 19.47      * 0.23  * 0.58  * 1.37  *\n",
      "* 50th  * 12.98      * 0.24  * 0.05  * 0.05  *\n",
      "* 75th  * 95.11      * 0.36  * 0.11  * 0.0   *\n",
      "* Max   * 1202.43    * 177.5 * 366.0 * 90.72 *\n",
      "**********************************************\n"
     ]
    }
   ],
   "source": [
    "# FR8 develops a function to print a custom table\n",
    "\n",
    "def print_table(data: dict, fillchar: str ='*', outputColumns: list=None) -> None:\n",
    "    \"\"\"\n",
    "        Input: \n",
    "            A dictionary data structure (data)\n",
    "            A character to print as borders (fillchar)\n",
    "            A list which contains the name of columns in data \n",
    "            to print only specific columns (outputColumns) \n",
    "\n",
    "        Output:\n",
    "            A dictionary data structure (result)\n",
    "\n",
    "        >>> print_table(generate_statistics(read_csv('task1.csv')), fillchar='|' )\n",
    "                ||||||||||||||||||||||||||||||||||||||\n",
    "                | Hydropower | Solar | Wind  | Other |\n",
    "        ||||||||||||||||||||||||||||||||||||||||||||||\n",
    "        | Count | 88         | 88    | 88    | 87    |\n",
    "        | Mean  | 48.82      | 6.62  | 14.38 | 7.01  |\n",
    "        | Stdev | 143.61     | 23.05 | 50.17 | 15.91 |\n",
    "        | Min   | 0.0        | 0.0   | 0.0   | 0.0   |\n",
    "        | 25th  | 19.47      | 0.23  | 0.58  | 1.37  |\n",
    "        | 50th  | 12.98      | 0.24  | 0.05  | 0.05  |\n",
    "        | 75th  | 95.11      | 0.36  | 0.11  | 0.0   |\n",
    "        | Max   | 1202.43    | 177.5 | 366.0 | 90.72 |\n",
    "        ||||||||||||||||||||||||||||||||||||||||||||||\n",
    "        \n",
    "        >>> print_table(generate_statistics(read_csv('task1.csv')), columnsName=[\"Hydropower\", \"Other\"])\n",
    "                **********************\n",
    "                * Hydropower * Other *\n",
    "        ******************************\n",
    "        * Count * 88         * 87    *\n",
    "        * Mean  * 48.82      * 7.01  *\n",
    "        * Stdev * 143.61     * 15.91 *\n",
    "        * Min   * 0.0        * 0.0   *\n",
    "        * 25th  * 19.47      * 1.37  *\n",
    "        * 50th  * 12.98      * 0.05  *\n",
    "        * 75th  * 95.11      * 0.0   *\n",
    "        * Max   * 1202.43    * 90.72 *\n",
    "        ******************************\n",
    "    \"\"\"\n",
    "    PADDING = 1\n",
    "    # Columns name of the dataset\n",
    "    columnsName = list(data.keys( ))[1:]\n",
    "    indices = list(data['Stats'])\n",
    "    if outputColumns:\n",
    "        columnsName = list(outputColumns)\n",
    "    \n",
    "    # Setting the alignment for each column based on the length of character of each field\n",
    "    columnsStats = [v for k, v in data.items() if k in columnsName]\n",
    "    ncs = [[len(str(round(y, 2))) for y in x] for x in columnsStats]\n",
    "    [i.append(len(columnsName[j])) for j, i in enumerate(ncs)]\n",
    "    margins_list = [max(x) for x in ncs]\n",
    "\n",
    "    #? Pretty printing section\n",
    "    header = \"        \"\n",
    "    headerBorderUp = \"        \" + f\"{fillchar}\"\n",
    "    headerBorderDown = f\"{fillchar}\"*9\n",
    "\n",
    "    theBody = \"\"\n",
    "    enumerable = list(zip(*[columnStats for columnStats in columnsStats]))\n",
    "    # Formatting the table\n",
    "    for idx, row in enumerate(enumerable):\n",
    "        rowName = indices[idx]\n",
    "        theBody += f\"{fillchar}{PADDING*' '}{rowName}{PADDING*' '}\".ljust(8)\n",
    "        for i, column in enumerate(row):\n",
    "            column = round(column, 2)\n",
    "            # getting proper margin for each column that belongs to it\n",
    "            margin = margins_list[i]\n",
    "            theBody += f\"{fillchar}{PADDING*' '}{str(column).ljust(margin)}{PADDING*' '}\"\n",
    "        theBody += f\"{fillchar}\\n\"\n",
    "\n",
    "    for i, columnName in enumerate(columnsName):\n",
    "        # Calculating the width of border in table\n",
    "        #? PADDING * 2 means padding for both sides (left & right)\n",
    "        #? + 2 means the border for both sides (left & right)\n",
    "        headerBorderUp += (f\"{fillchar}\" * (len(columnName.ljust(margins_list[i])) + (2*PADDING) + 1 ))\n",
    "        headerBorderDown += (f\"{fillchar}\" * (len(columnName.ljust(margins_list[i])) + (2*PADDING) + 1 ))\n",
    "        header += f\"{fillchar}{PADDING*' '}{columnName.ljust(margins_list[i])}{PADDING*' '}\"\n",
    "    header += f\"{fillchar}\"\n",
    "    bodyBorderDown = headerBorderDown\n",
    "    \n",
    "    # Printing the border line above header\n",
    "    print(headerBorderUp)\n",
    "    \n",
    "    # Printing header\n",
    "    print(header)\n",
    "    \n",
    "    # Printing the border line below header\n",
    "    print(headerBorderDown)\n",
    "    \n",
    "    # Printing the body\n",
    "    print(theBody[:-1])\n",
    "    \n",
    "    # Printing the border line below body\n",
    "    print(bodyBorderDown)\n",
    "    \n",
    "print_table(generate_statistics(read_csv('task1.csv')), fillchar='*')"
   ]
  },
  {
   "cell_type": "markdown",
   "metadata": {
    "deletable": false
   },
   "source": [
    "<p style=\"color:red; font-weight:bold; font-size:xx-small\">MARK: __%</p>\n",
    "<p style=\"color:red; font-weight:bold; font-size:xx-small\">FEEDBACK: </p>"
   ]
  },
  {
   "cell_type": "markdown",
   "metadata": {
    "deletable": false
   },
   "source": [
    "# Coding Standards\n",
    "<p style=\"color:red; font-weight:bold; font-size:xx-small\">MARK: __%</p>\n",
    "<p style=\"color:red; font-weight:bold; font-size:xx-small\">FEEDBACK: </p>"
   ]
  },
  {
   "cell_type": "markdown",
   "metadata": {
    "deletable": false
   },
   "source": [
    "# Process Development Report for Task 1\n"
   ]
  },
  {
   "cell_type": "markdown",
   "metadata": {},
   "source": [
    "### How much work is completed?\n",
    "\n",
    "Everything is completed 100%. For this task, my approach was to use algorithmic aid in the form of examples summarising what data is inputed and what output is expected, it is not exactly a pseudocode as it does not have codes in it, its more like a comment \"\"\"with examples\"\"\". The reason I chose this approach is because breaking things down with simple logic helps me understand the programming expectations with foresight into the problems. I like to break problems into smaller manageable pieces, thinking 'what data am I inputing and what output am I expecting, then what codes can be used to bridge the gap'\n"
   ]
  },
  {
   "cell_type": "markdown",
   "metadata": {},
   "source": [
    "**Problem faced:**\n",
    "    I faced some problem with deciding whether to use three different functions for quartiles or one function which returns all of them.  \n",
    "\n",
    "**Solutions:**\n",
    "    After giving it a thought, I figured I should use three different functions to preform their specific task. The reasons are firstly, I like to break problems into smaller pieces and secondly, I thought having different functions would be okay according to the context of this project. Since one of the aims of the task one is to learn to use as many built-in functions and structures. \n",
    "\n",
    "Alternatively, I could have explored using one single function, (using pandas, I could use the df.quantile(q=[0.25,0.5, 0.75])"
   ]
  },
  {
   "cell_type": "markdown",
   "metadata": {},
   "source": [
    "### What did I experience/learn?\n",
    "\n",
    "During this task, I have learned to read and parse csv files. I have learned to clean data and to use loops and iteration. I learned to use conditional statements and how to chain conditional statements using logical operators. I have learned to calculate basic summary statistics using python and to visualize it on a table. \n",
    "FR8 was particularly tricky, printing dynamic table wasn't a walk in the park. I had to come up with different ideas to accomplish this task. I learned formatting strings and manipulating them at various extents.\n"
   ]
  },
  {
   "cell_type": "markdown",
   "metadata": {
    "deletable": false
   },
   "source": [
    "<p style=\"color:red; font-weight:bold; font-size:xx-small\">MARK: __%</p>\n",
    "<p style=\"color:red; font-weight:bold; font-size:xx-small\">FEEDBACK: </p>"
   ]
  }
 ],
 "metadata": {
  "kernelspec": {
   "display_name": "Python 3 (ipykernel)",
   "language": "python",
   "name": "python3"
  },
  "language_info": {
   "codemirror_mode": {
    "name": "ipython",
    "version": 3
   },
   "file_extension": ".py",
   "mimetype": "text/x-python",
   "name": "python",
   "nbconvert_exporter": "python",
   "pygments_lexer": "ipython3",
   "version": "3.9.7"
  }
 },
 "nbformat": 4,
 "nbformat_minor": 4
}
